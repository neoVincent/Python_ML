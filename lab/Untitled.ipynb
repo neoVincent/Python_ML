{
 "cells": [
  {
   "cell_type": "markdown",
   "metadata": {},
   "source": [
    "# MNIST Classification via a Neural Network"
   ]
  },
  {
   "cell_type": "code",
   "execution_count": 2,
   "metadata": {},
   "outputs": [],
   "source": [
    "import tensorflow as tf\n",
    "import numpy as np\n",
    "import matplotlib.pyplot as plt\n",
    "%matplotlib inline"
   ]
  },
  {
   "cell_type": "code",
   "execution_count": 4,
   "metadata": {},
   "outputs": [
    {
     "name": "stdout",
     "output_type": "stream",
     "text": [
      "60000 28 28\n"
     ]
    }
   ],
   "source": [
    "(Xtr, ytr), (Xts, yts) = tf.keras.datasets.mnist.load_data()\n",
    "\n",
    "Xtr = 2*(Xtr/255-0.5)\n",
    "ntr, nrow, ncol = Xtr.shape\n",
    "Xtr = Xtr.reshape((ntr,nrow*ncol))\n",
    "\n",
    "Xts = 2*(Xts/255 - 0.5)\n",
    "nts, nrow, ncol = Xts.shape\n",
    "Xts = Xts.reshape((nts,nrow*ncol))\n",
    "\n",
    "print(ntr, nrow, ncol)"
   ]
  },
  {
   "cell_type": "code",
   "execution_count": 5,
   "metadata": {},
   "outputs": [
    {
     "data": {
      "image/png": "[encoded data removed]",
      "text/plain": [
       "<Figure size 432x288 with 4 Axes>"
      ]
     },
     "metadata": {},
     "output_type": "display_data"
    }
   ],
   "source": [
    "def plt_digit(x):\n",
    "    nrow = 28\n",
    "    ncol = 28\n",
    "    xsq = x.reshape((nrow,ncol))\n",
    "    plt.imshow(xsq,  cmap='Greys_r')\n",
    "    plt.xticks([])\n",
    "    plt.yticks([])\n",
    "\n",
    "# Select random digits\n",
    "nplt = 4\n",
    "nsamp = Xtr.shape[0]\n",
    "Iperm = np.random.permutation(nsamp)\n",
    "\n",
    "# Plot the images using the subplot command\n",
    "for i in range(nplt):\n",
    "    ind = Iperm[i]\n",
    "    plt.subplot(1,nplt, i+1)\n",
    "    plt_digit(Xtr[ind,:])\n"
   ]
  },
  {
   "cell_type": "markdown",
   "metadata": {},
   "source": [
    "# Create a Simple Neutral Network"
   ]
  },
  {
   "cell_type": "code",
   "execution_count": 12,
   "metadata": {},
   "outputs": [],
   "source": [
    "from tensorflow.keras.models import Model, Sequential\n",
    "from tensorflow.keras.layers import Dense, Activation\n",
    "import tensorflow.keras.backend as K\n",
    "K.clear_session()"
   ]
  },
  {
   "cell_type": "code",
   "execution_count": 16,
   "metadata": {},
   "outputs": [
    {
     "name": "stdout",
     "output_type": "stream",
     "text": [
      "784 100 10\n"
     ]
    }
   ],
   "source": [
    "nin = Xtr.shape[1]\n",
    "nh = 100\n",
    "nout = int(np.max(ytr)+1)\n",
    "model = Sequential()\n",
    "model.add(Dense(units=nh, input_shape=(nin,), activation='sigmoid', name='hidden'))\n",
    "model.add(Dense(units=nout,activation='softmax',name='output'))\n",
    "print(nin,nh,nout)"
   ]
  },
  {
   "cell_type": "code",
   "execution_count": 17,
   "metadata": {},
   "outputs": [
    {
     "name": "stdout",
     "output_type": "stream",
     "text": [
      "_________________________________________________________________\n",
      "Layer (type)                 Output Shape              Param #   \n",
      "=================================================================\n",
      "hidden (Dense)               (None, 100)               78500     \n",
      "_________________________________________________________________\n",
      "output (Dense)               (None, 10)                1010      \n",
      "=================================================================\n",
      "Total params: 79,510\n",
      "Trainable params: 79,510\n",
      "Non-trainable params: 0\n",
      "_________________________________________________________________\n"
     ]
    }
   ],
   "source": [
    "model.summary()"
   ]
  },
  {
   "cell_type": "markdown",
   "metadata": {},
   "source": [
    "# Training the network"
   ]
  },
  {
   "cell_type": "code",
   "execution_count": 18,
   "metadata": {},
   "outputs": [],
   "source": [
    "from tensorflow.keras import optimizers\n",
    "opt = optimizers.Adam(lr=0.001)\n",
    "model.compile(optimizer=opt,\n",
    "             loss='sparse_categorical_crossentropy',\n",
    "             metrics=['accuracy'])"
   ]
  },
  {
   "cell_type": "code",
   "execution_count": 19,
   "metadata": {},
   "outputs": [
    {
     "name": "stdout",
     "output_type": "stream",
     "text": [
      "Train on 60000 samples, validate on 10000 samples\n",
      "Epoch 1/30\n",
      "60000/60000 [==============================] - 2s 31us/step - loss: 0.5049 - acc: 0.8697 - val_loss: 0.2809 - val_acc: 0.9202\n",
      "Epoch 2/30\n",
      "60000/60000 [==============================] - 1s 16us/step - loss: 0.2556 - acc: 0.9278 - val_loss: 0.2278 - val_acc: 0.9367\n",
      "Epoch 3/30\n",
      "60000/60000 [==============================] - 1s 16us/step - loss: 0.2021 - acc: 0.9423 - val_loss: 0.1839 - val_acc: 0.9473\n",
      "Epoch 4/30\n",
      "60000/60000 [==============================] - 1s 18us/step - loss: 0.1693 - acc: 0.9520 - val_loss: 0.1588 - val_acc: 0.9538\n",
      "Epoch 5/30\n",
      "60000/60000 [==============================] - 1s 17us/step - loss: 0.1452 - acc: 0.9589 - val_loss: 0.1419 - val_acc: 0.9588\n",
      "Epoch 6/30\n",
      "60000/60000 [==============================] - 1s 17us/step - loss: 0.1257 - acc: 0.9644 - val_loss: 0.1307 - val_acc: 0.9625\n",
      "Epoch 7/30\n",
      "60000/60000 [==============================] - 1s 16us/step - loss: 0.1115 - acc: 0.9689 - val_loss: 0.1198 - val_acc: 0.9650\n",
      "Epoch 8/30\n",
      "60000/60000 [==============================] - 1s 16us/step - loss: 0.1000 - acc: 0.9725 - val_loss: 0.1127 - val_acc: 0.9674\n",
      "Epoch 9/30\n",
      "60000/60000 [==============================] - 1s 16us/step - loss: 0.0909 - acc: 0.9748 - val_loss: 0.1058 - val_acc: 0.9686\n",
      "Epoch 10/30\n",
      "60000/60000 [==============================] - 1s 16us/step - loss: 0.0813 - acc: 0.9775 - val_loss: 0.0980 - val_acc: 0.9704\n",
      "Epoch 11/30\n",
      "60000/60000 [==============================] - 1s 16us/step - loss: 0.0753 - acc: 0.9788 - val_loss: 0.0956 - val_acc: 0.9719\n",
      "Epoch 12/30\n",
      "60000/60000 [==============================] - 1s 16us/step - loss: 0.0691 - acc: 0.9808 - val_loss: 0.0928 - val_acc: 0.9730\n",
      "Epoch 13/30\n",
      "60000/60000 [==============================] - 1s 16us/step - loss: 0.0630 - acc: 0.9829 - val_loss: 0.0875 - val_acc: 0.9730\n",
      "Epoch 14/30\n",
      "60000/60000 [==============================] - 1s 18us/step - loss: 0.0581 - acc: 0.9845 - val_loss: 0.0910 - val_acc: 0.9730\n",
      "Epoch 15/30\n",
      "60000/60000 [==============================] - 1s 17us/step - loss: 0.0548 - acc: 0.9854 - val_loss: 0.0837 - val_acc: 0.9746\n",
      "Epoch 16/30\n",
      "60000/60000 [==============================] - 1s 16us/step - loss: 0.0497 - acc: 0.9871 - val_loss: 0.0904 - val_acc: 0.9735\n",
      "Epoch 17/30\n",
      "60000/60000 [==============================] - 1s 17us/step - loss: 0.0463 - acc: 0.9875 - val_loss: 0.0831 - val_acc: 0.9743\n",
      "Epoch 18/30\n",
      "60000/60000 [==============================] - 1s 17us/step - loss: 0.0429 - acc: 0.9887 - val_loss: 0.0778 - val_acc: 0.9761\n",
      "Epoch 19/30\n",
      "60000/60000 [==============================] - 1s 16us/step - loss: 0.0398 - acc: 0.9897 - val_loss: 0.0819 - val_acc: 0.9751\n",
      "Epoch 20/30\n",
      "60000/60000 [==============================] - 1s 16us/step - loss: 0.0366 - acc: 0.9907 - val_loss: 0.0826 - val_acc: 0.9750\n",
      "Epoch 21/30\n",
      "60000/60000 [==============================] - 1s 16us/step - loss: 0.0352 - acc: 0.9917 - val_loss: 0.0845 - val_acc: 0.9737\n",
      "Epoch 22/30\n",
      "60000/60000 [==============================] - 1s 16us/step - loss: 0.0330 - acc: 0.9922 - val_loss: 0.0820 - val_acc: 0.9750\n",
      "Epoch 23/30\n",
      "60000/60000 [==============================] - 1s 16us/step - loss: 0.0300 - acc: 0.9928 - val_loss: 0.0789 - val_acc: 0.9768\n",
      "Epoch 24/30\n",
      "60000/60000 [==============================] - 1s 17us/step - loss: 0.0278 - acc: 0.9934 - val_loss: 0.0788 - val_acc: 0.9747\n",
      "Epoch 25/30\n",
      "60000/60000 [==============================] - 1s 19us/step - loss: 0.0258 - acc: 0.9942 - val_loss: 0.0838 - val_acc: 0.9753\n",
      "Epoch 26/30\n",
      "60000/60000 [==============================] - 1s 18us/step - loss: 0.0242 - acc: 0.9946 - val_loss: 0.0812 - val_acc: 0.9744\n",
      "Epoch 27/30\n",
      "60000/60000 [==============================] - 1s 20us/step - loss: 0.0230 - acc: 0.9946 - val_loss: 0.0791 - val_acc: 0.9755\n",
      "Epoch 28/30\n",
      "60000/60000 [==============================] - 1s 19us/step - loss: 0.0214 - acc: 0.9956 - val_loss: 0.0808 - val_acc: 0.9772\n",
      "Epoch 29/30\n",
      "60000/60000 [==============================] - 1s 16us/step - loss: 0.0207 - acc: 0.9953 - val_loss: 0.0795 - val_acc: 0.9759\n",
      "Epoch 30/30\n",
      "60000/60000 [==============================] - 1s 16us/step - loss: 0.0184 - acc: 0.9963 - val_loss: 0.0872 - val_acc: 0.9737\n"
     ]
    }
   ],
   "source": [
    "hist = model.fit(Xtr,ytr,epochs=30,batch_size=100,validation_data=(Xts,yts))\n"
   ]
  },
  {
   "cell_type": "code",
   "execution_count": 20,
   "metadata": {},
   "outputs": [
    {
     "data": {
      "text/plain": [
       "<matplotlib.legend.Legend at 0x163a66390>"
      ]
     },
     "execution_count": 20,
     "metadata": {},
     "output_type": "execute_result"
    },
    {
     "data": {
      "image/png": "[encoded data removed]",
      "text/plain": [
       "<Figure size 432x288 with 1 Axes>"
      ]
     },
     "metadata": {
      "needs_background": "light"
     },
     "output_type": "display_data"
    }
   ],
   "source": [
    "tr_accuracy = hist.history['acc']\n",
    "val_accuracy = hist.history['val_acc']\n",
    "\n",
    "plt.plot(tr_accuracy)\n",
    "plt.plot(val_accuracy)\n",
    "plt.grid()\n",
    "plt.xlabel('epochs')\n",
    "plt.ylabel('accuracy')\n",
    "plt.legend(['training accuracy','validaton accuracy'])"
   ]
  },
  {
   "cell_type": "markdown",
   "metadata": {},
   "source": [
    "# Saving and loading the model"
   ]
  },
  {
   "cell_type": "code",
   "execution_count": 21,
   "metadata": {},
   "outputs": [],
   "source": [
    "model.save('mnist_mod.h5')\n"
   ]
  },
  {
   "cell_type": "code",
   "execution_count": null,
   "metadata": {},
   "outputs": [],
   "source": [
    "from tensorflow.keras.models import load_model\n",
    "\n",
    "model = load_mode"
   ]
  }
 ],
 "metadata": {
  "kernelspec": {
   "display_name": "Python 3",
   "language": "python",
   "name": "python3"
  },
  "language_info": {
   "codemirror_mode": {
    "name": "ipython",
    "version": 3
   },
   "file_extension": ".py",
   "mimetype": "text/x-python",
   "name": "python",
   "nbconvert_exporter": "python",
   "pygments_lexer": "ipython3",
   "version": "3.6.5"
  }
 },
 "nbformat": 4,
 "nbformat_minor": 2
}
